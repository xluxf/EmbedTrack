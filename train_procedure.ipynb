{
 "cells": [
  {
   "cell_type": "code",
   "execution_count": 1,
   "id": "7dee9ac3-977d-4d0d-8299-f7a8cae4f67a",
   "metadata": {
    "tags": []
   },
   "outputs": [],
   "source": [
    "from embedtrack.train.run_training_pipeline import run_pipeline, DataConfig, ModelConfig, TrainConfig\n",
    "\n",
    "%load_ext autoreload\n",
    "%autoreload 2\n"
   ]
  },
  {
   "cell_type": "code",
   "execution_count": 2,
   "id": "e7203de4-070c-42f9-b38f-ea99bfa92483",
   "metadata": {
    "tags": []
   },
   "outputs": [],
   "source": [
    "import matplotlib\n",
    "import matplotlib.pyplot as plt\n",
    "\n",
    "data_set = \"BF-C2DL-HSC\"\n",
    "\n",
    "matplotlib.use(\"Agg\")\n",
    "from embedtrack.train.run_training_pipeline import (\n",
    "    DataConfig,\n",
    "    ModelConfig,\n",
    "    TrainConfig,\n",
    "    run_pipeline,\n",
    ")\n",
    "import os\n",
    "from pathlib import Path\n",
    "\n",
    "# data configs\n",
    "\n",
    "PROJECT_PATH = Path.cwd()\n",
    "\n",
    "RAW_DATA_PATH = os.path.join(PROJECT_PATH, \"ctc_raw_data/train\")\n",
    "DATA_PATH_DEST = os.path.join(PROJECT_PATH, \"data2\")\n",
    "MODEL_PATH = os.path.join(PROJECT_PATH, \"models\")\n",
    "\n",
    "USE_SILVER_TRUTH = True\n",
    "TRAIN_VAL_SEQUNCES = [\"01\", \"02\"]\n",
    "\n",
    "TRAIN_VAL_SPLIT = 0.1\n",
    "\n",
    "N_EPOCHS = 15\n",
    "# Adam optimizer; normalize images; OneCycle LR sheduler; N epochs\n",
    "MODEL_NAME = \"adam_norm_onecycle_\" + str(N_EPOCHS)\n",
    "\n",
    "if data_set == \"Fluo-N2DH-SIM+\":\n",
    "    use_silver_truth = False\n",
    "else:\n",
    "    use_silver_truth = USE_SILVER_TRUTH\n",
    "\n",
    "data_config = DataConfig(\n",
    "    RAW_DATA_PATH,\n",
    "    data_set,\n",
    "    DATA_PATH_DEST,\n",
    "    use_silver_truth=use_silver_truth,\n",
    "    train_val_sequences=TRAIN_VAL_SEQUNCES,\n",
    "    train_val_split=TRAIN_VAL_SPLIT,\n",
    ")\n",
    "\n",
    "# train configs\n",
    "MODEL_SAVE_DIR = os.path.join(\n",
    "    MODEL_PATH,\n",
    "    data_set,\n",
    "    MODEL_NAME,\n",
    ")\n",
    "if data_set != \"Fluo-C2DL-MSC\":\n",
    "    CROP_SIZE = 256\n",
    "    TRAIN_BATCH_SIZE = 16\n",
    "    VAL_BATCH_SIZE = 16\n",
    "    DISPLAY_IT = 1000\n",
    "\n",
    "else:\n",
    "    CROP_SIZE = 512\n",
    "    TRAIN_BATCH_SIZE = 8\n",
    "    VAL_BATCH_SIZE = 8\n",
    "    DISPLAY_IT = 200\n",
    "\n",
    "CENTER = \"medoid\"  \n",
    "RESUME_TRAINING = False\n",
    "TRAIN_SIZE = None  # if None training on full train data set; otherwise still training on full data set but only use a fraction of the data per epoch\n",
    "VAL_SIZE = None  # if None validation on full val data set; otherwise still val on full data set but only use a fraction of the data per epoch\n",
    "VIRTUAL_TRAIN_BATCH_MULTIPLIER = 1\n",
    "VIRTUAL_VAL_BATCH_MULTIPLIER = 1\n",
    "DISPLAY = False\n",
    "\n",
    "train_config = TrainConfig(\n",
    "    MODEL_SAVE_DIR,\n",
    "    crop_size=CROP_SIZE,\n",
    "    center=CENTER,\n",
    "    resume_training=RESUME_TRAINING,\n",
    "    train_size=TRAIN_SIZE,\n",
    "    train_batch_size=TRAIN_BATCH_SIZE,\n",
    "    virtual_train_batch_multiplier=VIRTUAL_TRAIN_BATCH_MULTIPLIER,\n",
    "    val_size=VAL_SIZE,\n",
    "    val_batch_size=VAL_BATCH_SIZE,\n",
    "    virtual_val_batch_multiplier=VIRTUAL_VAL_BATCH_MULTIPLIER,\n",
    "    n_epochs=N_EPOCHS,\n",
    "    display=DISPLAY,\n",
    "    display_it=DISPLAY_IT,\n",
    ")\n",
    "\n",
    "# model config\n",
    "INPUT_CHANNELS = 1\n",
    "N_SEG_CLASSES = [4, 1]\n",
    "N_TRACK_CLASSES = 2\n",
    "\n",
    "model_config = ModelConfig(INPUT_CHANNELS, N_SEG_CLASSES, N_TRACK_CLASSES)"
   ]
  },
  {
   "cell_type": "code",
   "execution_count": null,
   "id": "c67f4c12-f83b-4e84-9926-9e001723452e",
   "metadata": {
    "tags": []
   },
   "outputs": [
    {
     "name": "stdout",
     "output_type": "stream",
     "text": [
      "/home/xlux/PROJECTS/TRACKING/global-linking/EmbedTrack/data2/BF-C2DL-HSC already exists, therefore no data is copied from /home/xlux/PROJECTS/TRACKING/global-linking/EmbedTrack/ctc_raw_data/train/BF-C2DL-HSC\n",
      "/home/xlux/PROJECTS/TRACKING/global-linking/EmbedTrack/data2/crops/BF-C2DL-HSC already exists, therefore no crops are generated from /home/xlux/PROJECTS/TRACKING/global-linking/EmbedTrack/data2/BF-C2DL-HSC\n",
      "`train_dataset_dict` dictionary successfully created with: \n",
      " -- ['/home/xlux/PROJECTS/TRACKING/global-linking/EmbedTrack/data2/BF-C2DL-HSC/train/02/images', '/home/xlux/PROJECTS/TRACKING/global-linking/EmbedTrack/data2/BF-C2DL-HSC/train/01/images'] images accessed from ['/home/xlux/PROJECTS/TRACKING/global-linking/EmbedTrack/data2/crops/BF-C2DL-HSC/train/02/images', '/home/xlux/PROJECTS/TRACKING/global-linking/EmbedTrack/data2/crops/BF-C2DL-HSC/train/01/images'], \n",
      " -- number of images per epoch equal to None, \n",
      " -- batch size set at 16, \n",
      " -- virtual batch multiplier set as 1.\n",
      "`val_dataset_dict` dictionary successfully created with: \n",
      " -- ['/home/xlux/PROJECTS/TRACKING/global-linking/EmbedTrack/data2/BF-C2DL-HSC/val/02/images', '/home/xlux/PROJECTS/TRACKING/global-linking/EmbedTrack/data2/BF-C2DL-HSC/val/01/images'] images accessed from ['/home/xlux/PROJECTS/TRACKING/global-linking/EmbedTrack/data2/crops/BF-C2DL-HSC/val/02/images', '/home/xlux/PROJECTS/TRACKING/global-linking/EmbedTrack/data2/crops/BF-C2DL-HSC/val/01/images'], \n",
      " -- number of images per epoch equal to None, \n",
      " -- batch size set at 16, \n",
      " -- virtual batch multiplier set as 1.\n",
      "`model_dict` dictionary successfully created with: \n",
      " -- num of classes equal to [4, 1, 2], \n",
      " -- input channels equal to 1, \n",
      " -- name equal to 2d\n",
      "`loss_dict` dictionary successfully created with: \n",
      " -- foreground weight equal to 1.000, \n",
      " -- w_inst equal to 1, \n",
      " -- w_var equal to 10, \n",
      " -- w_seed equal to 1\n",
      "`configs` dictionary successfully created with: \n",
      " -- n_epochs equal to 15, \n",
      " -- display equal to False, \n",
      " -- save_dir equal to /home/xlux/PROJECTS/TRACKING/global-linking/EmbedTrack/models/BF-C2DL-HSC/adam_norm_onecycle_15/2023-08-02---09-40-43, \n",
      " -- n_y equal to 256, \n",
      " -- n_x equal to 256, \n",
      "begin training\n",
      "train dataset\n",
      "2-D `train` dataloader created! Accessing data from /home/xlux/PROJECTS/TRACKING/global-linking/EmbedTrack/data2/crops/BF-C2DL-HSC/['train/02', 'train/01']/\n",
      "Number of images in `train/02` directory is 24319\n",
      "Number of instances in `train/02` directory is 24319\n",
      "Number of center images in `train/02` directory is 24319\n",
      "Number of images in `train/01` directory is 15401\n",
      "Number of instances in `train/01` directory is 15401\n",
      "Number of center images in `train/01` directory is 15401\n",
      "*************************\n"
     ]
    },
    {
     "name": "stderr",
     "output_type": "stream",
     "text": [
      "100%|████████████████████████████████████████████████████████████████████████████████████████████████████████████████████████| 39720/39720 [00:31<00:00, 1272.60it/s]\n"
     ]
    },
    {
     "name": "stdout",
     "output_type": "stream",
     "text": [
      "2-D `val` dataloader created! Accessing data from /home/xlux/PROJECTS/TRACKING/global-linking/EmbedTrack/data2/crops/BF-C2DL-HSC/['val/02', 'val/01']/\n",
      "Number of images in `val/02` directory is 5611\n",
      "Number of instances in `val/02` directory is 5611\n",
      "Number of center images in `val/02` directory is 5611\n",
      "Number of images in `val/01` directory is 2201\n",
      "Number of instances in `val/01` directory is 2201\n",
      "Number of center images in `val/01` directory is 2201\n",
      "*************************\n"
     ]
    },
    {
     "name": "stderr",
     "output_type": "stream",
     "text": [
      "100%|██████████████████████████████████████████████████████████████████████████████████████████████████████████████████████████| 7812/7812 [00:00<00:00, 9810.75it/s]\n"
     ]
    },
    {
     "name": "stdout",
     "output_type": "stream",
     "text": [
      "Creating branched erfnet with [4, 1, 2] classes\n",
      "Initialize last layer with size:  torch.Size([16, 4, 2, 2])\n",
      "*************************\n",
      "Initialize last layer with size:  torch.Size([16, 2, 2, 2])\n",
      "*************************\n",
      "cluster\n",
      "Created spatial emb loss function with: n_sigma: 2, foreground_weight: 1\n",
      "*************************\n",
      "visualize_training\n",
      "Created logger with keys:  ('train', 'val', 'iou')\n",
      "Starting epoch 0\n",
      "learning rate: 1.9999999999999998e-05\n"
     ]
    },
    {
     "name": "stderr",
     "output_type": "stream",
     "text": [
      " 21%|█████████████████████████▊                                                                                                   | 506/2452 [05:11<18:55,  1.71it/s]"
     ]
    }
   ],
   "source": [
    "run_pipeline(data_config, train_config, model_config)"
   ]
  },
  {
   "cell_type": "code",
   "execution_count": null,
   "id": "a43fddb7-0ee4-4aa7-bda5-04a567ff8814",
   "metadata": {},
   "outputs": [],
   "source": []
  }
 ],
 "metadata": {
  "kernelspec": {
   "display_name": "Python 3 (ipykernel)",
   "language": "python",
   "name": "python3"
  },
  "language_info": {
   "codemirror_mode": {
    "name": "ipython",
    "version": 3
   },
   "file_extension": ".py",
   "mimetype": "text/x-python",
   "name": "python",
   "nbconvert_exporter": "python",
   "pygments_lexer": "ipython3",
   "version": "3.8.10"
  }
 },
 "nbformat": 4,
 "nbformat_minor": 5
}
